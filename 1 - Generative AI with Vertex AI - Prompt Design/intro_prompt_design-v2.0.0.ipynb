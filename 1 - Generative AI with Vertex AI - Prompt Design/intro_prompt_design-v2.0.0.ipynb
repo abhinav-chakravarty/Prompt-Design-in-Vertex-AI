{
 "cells": [
  {
   "cell_type": "code",
   "execution_count": null,
   "metadata": {
    "id": "ur8xi4C7S06n"
   },
   "outputs": [],
   "source": [
    "# Copyright 2024 Google LLC\n",
    "#\n",
    "# Licensed under the Apache License, Version 2.0 (the \"License\");\n",
    "# you may not use this file except in compliance with the License.\n",
    "# You may obtain a copy of the License at\n",
    "#\n",
    "#     https://www.apache.org/licenses/LICENSE-2.0\n",
    "#\n",
    "# Unless required by applicable law or agreed to in writing, software\n",
    "# distributed under the License is distributed on an \"AS IS\" BASIS,\n",
    "# WITHOUT WARRANTIES OR CONDITIONS OF ANY KIND, either express or implied.\n",
    "# See the License for the specific language governing permissions and\n",
    "# limitations under the License."
   ]
  },
  {
   "cell_type": "markdown",
   "metadata": {
    "id": "JAPoU8Sm5E6e"
   },
   "source": [
    "# Prompt Design - Best Practices\n",
    "\n",
    "<table align=\"left\">\n",
    "  <td style=\"text-align: center\">\n",
    "    <a href=\"https://colab.research.google.com/github/GoogleCloudPlatform/generative-ai/blob/main/gemini/prompts/intro_prompt_design.ipynb\">\n",
    "      <img src=\"https://cloud.google.com/ml-engine/images/colab-logo-32px.png\" alt=\"Google Colaboratory logo\"><br> Open in Colab\n",
    "    </a>\n",
    "  </td>\n",
    "  <td style=\"text-align: center\">\n",
    "    <a href=\"https://console.cloud.google.com/vertex-ai/colab/import/https:%2F%2Fraw.githubusercontent.com%2FGoogleCloudPlatform%2Fgenerative-ai%2Fmain%2Fgemini%2Fprompts%2Fintro_prompt_design.ipynb\">\n",
    "      <img width=\"32px\" src=\"https://lh3.googleusercontent.com/JmcxdQi-qOpctIvWKgPtrzZdJJK-J3sWE1RsfjZNwshCFgE_9fULcNpuXYTilIR2hjwN\" alt=\"Google Cloud Colab Enterprise logo\"><br> Open in Colab Enterprise\n",
    "    </a>\n",
    "  </td>    \n",
    "  <td style=\"text-align: center\">\n",
    "    <a href=\"https://console.cloud.google.com/vertex-ai/workbench/deploy-notebook?download_url=https://raw.githubusercontent.com/GoogleCloudPlatform/generative-ai/main/gemini/prompts/intro_prompt_design.ipynb\">\n",
    "      <img src=\"https://lh3.googleusercontent.com/UiNooY4LUgW_oTvpsNhPpQzsstV5W8F7rYgxgGBD85cWJoLmrOzhVs_ksK_vgx40SHs7jCqkTkCk=e14-rj-sc0xffffff-h130-w32\" alt=\"Vertex AI logo\"><br> Open in Workbench\n",
    "    </a>\n",
    "  </td>\n",
    "  <td style=\"text-align: center\">\n",
    "    <a href=\"https://github.com/GoogleCloudPlatform/generative-ai/blob/main/gemini/prompts/intro_prompt_design.ipynb\">\n",
    "      <img src=\"https://cloud.google.com/ml-engine/images/github-logo-32px.png\" alt=\"GitHub logo\"><br> View on GitHub\n",
    "    </a>\n",
    "  </td>\n",
    "  <td style=\"text-align: center\">\n",
    "    <a href=\"https://goo.gle/4fWHlze\">\n",
    "      <img width=\"32px\" src=\"https://cdn.qwiklabs.com/assets/gcp_cloud-e3a77215f0b8bfa9b3f611c0d2208c7e8708ed31.svg\" alt=\"Google Cloud logo\"><br> Open in  Cloud Skills Boost\n",
    "    </a>\n",
    "  </td>\n",
    "</table>\n",
    "\n",
    "<div style=\"clear: both;\"></div>\n",
    "\n",
    "<b>Share to:</b>\n",
    "\n",
    "<a href=\"https://www.linkedin.com/sharing/share-offsite/?url=https%3A//github.com/GoogleCloudPlatform/generative-ai/blob/main/gemini/prompts/intro_prompt_design.ipynb\" target=\"_blank\">\n",
    "  <img width=\"20px\" src=\"https://upload.wikimedia.org/wikipedia/commons/8/81/LinkedIn_icon.svg\" alt=\"LinkedIn logo\">\n",
    "</a>\n",
    "\n",
    "<a href=\"https://bsky.app/intent/compose?text=https%3A//github.com/GoogleCloudPlatform/generative-ai/blob/main/gemini/prompts/intro_prompt_design.ipynb\" target=\"_blank\">\n",
    "  <img width=\"20px\" src=\"https://upload.wikimedia.org/wikipedia/commons/7/7a/Bluesky_Logo.svg\" alt=\"Bluesky logo\">\n",
    "</a>\n",
    "\n",
    "<a href=\"https://twitter.com/intent/tweet?url=https%3A//github.com/GoogleCloudPlatform/generative-ai/blob/main/gemini/prompts/intro_prompt_design.ipynb\" target=\"_blank\">\n",
    "  <img width=\"20px\" src=\"https://upload.wikimedia.org/wikipedia/commons/5/5a/X_icon_2.svg\" alt=\"X logo\">\n",
    "</a>\n",
    "\n",
    "<a href=\"https://reddit.com/submit?url=https%3A//github.com/GoogleCloudPlatform/generative-ai/blob/main/gemini/prompts/intro_prompt_design.ipynb\" target=\"_blank\">\n",
    "  <img width=\"20px\" src=\"https://redditinc.com/hubfs/Reddit%20Inc/Brand/Reddit_Logo.png\" alt=\"Reddit logo\">\n",
    "</a>\n",
    "\n",
    "<a href=\"https://www.facebook.com/sharer/sharer.php?u=https%3A//github.com/GoogleCloudPlatform/generative-ai/blob/main/gemini/prompts/intro_prompt_design.ipynb\" target=\"_blank\">\n",
    "  <img width=\"20px\" src=\"https://upload.wikimedia.org/wikipedia/commons/5/51/Facebook_f_logo_%282019%29.svg\" alt=\"Facebook logo\">\n",
    "</a>            "
   ]
  },
  {
   "cell_type": "markdown",
   "metadata": {
    "id": "84f0f73a0f76"
   },
   "source": [
    "| Authors |\n",
    "| --- |\n",
    "| [Polong Lin](https://github.com/polong-lin) |\n",
    "| [Karl Weinmeister](https://github.com/kweinmeister) |"
   ]
  },
  {
   "cell_type": "markdown",
   "metadata": {
    "id": "tvgnzT1CKxrO"
   },
   "source": [
    "## Overview\n",
    "\n",
    "This notebook covers the essentials of prompt engineering, including some best practices.\n",
    "\n",
    "Learn more about prompt design in the [official documentation](https://cloud.google.com/vertex-ai/docs/generative-ai/text/text-overview).\n",
    "\n",
    "In this notebook, you learn best practices around prompt engineering -- how to design prompts to improve the quality of your responses.\n",
    "\n",
    "This notebook covers the following best practices for prompt engineering:\n",
    "\n",
    "- Be concise\n",
    "- Be specific and well-defined\n",
    "- Ask one task at a time\n",
    "- Turn generative tasks into classification tasks\n",
    "- Improve response quality by including examples"
   ]
  },
  {
   "cell_type": "markdown",
   "metadata": {
    "id": "61RBz8LLbxCR"
   },
   "source": [
    "## Getting Started"
   ]
  },
  {
   "cell_type": "markdown",
   "metadata": {
    "id": "No17Cw5hgx12"
   },
   "source": [
    "### Install Google Gen AI SDK\n"
   ]
  },
  {
   "cell_type": "code",
   "execution_count": 1,
   "metadata": {
    "id": "tFy3H3aPgx12",
    "tags": []
   },
   "outputs": [
    {
     "name": "stdout",
     "output_type": "stream",
     "text": [
      "Note: you may need to restart the kernel to use updated packages.\n"
     ]
    }
   ],
   "source": [
    "%pip install --upgrade --quiet google-genai"
   ]
  },
  {
   "cell_type": "markdown",
   "metadata": {},
   "source": [
    "### Restart runtime\n",
    "\n",
    "To use the newly installed packages in this Jupyter runtime, you must restart the runtime. You can do this by running the cell below, which will restart the current kernel."
   ]
  },
  {
   "cell_type": "code",
   "execution_count": 1,
   "metadata": {
    "tags": []
   },
   "outputs": [
    {
     "data": {
      "text/plain": [
       "{'status': 'ok', 'restart': True}"
      ]
     },
     "execution_count": 1,
     "metadata": {},
     "output_type": "execute_result"
    }
   ],
   "source": [
    "import IPython\n",
    "\n",
    "app = IPython.Application.instance()\n",
    "app.kernel.do_shutdown(True)"
   ]
  },
  {
   "cell_type": "markdown",
   "metadata": {},
   "source": [
    "<div class=\"alert alert-block alert-warning\">\n",
    "<b>⚠️ The kernel is going to restart. Please wait until it is finished before continuing to the next step. ⚠️</b>\n",
    "</div>\n"
   ]
  },
  {
   "cell_type": "markdown",
   "metadata": {
    "id": "dmWOrTJ3gx13"
   },
   "source": [
    "### Authenticate your notebook environment (Colab only)\n",
    "\n",
    "Authenticate your environment on Google Colab.\n"
   ]
  },
  {
   "cell_type": "code",
   "execution_count": 1,
   "metadata": {
    "id": "NyKGtVQjgx13",
    "tags": []
   },
   "outputs": [],
   "source": [
    "import sys\n",
    "\n",
    "if \"google.colab\" in sys.modules:\n",
    "    from google.colab import auth\n",
    "\n",
    "    auth.authenticate_user()"
   ]
  },
  {
   "cell_type": "markdown",
   "metadata": {
    "id": "06489bd14f16"
   },
   "source": [
    "### Import libraries\n"
   ]
  },
  {
   "cell_type": "code",
   "execution_count": 2,
   "metadata": {
    "id": "154137022fb6",
    "tags": []
   },
   "outputs": [],
   "source": [
    "from IPython.display import Markdown, display\n",
    "from google import genai\n",
    "from google.genai.types import GenerateContentConfig"
   ]
  },
  {
   "cell_type": "markdown",
   "metadata": {
    "id": "DF4l8DTdWgPY"
   },
   "source": [
    "### Set Google Cloud project information and create client\n",
    "\n",
    "To get started using Vertex AI, you must have an existing Google Cloud project and [enable the Vertex AI API](https://console.cloud.google.com/flows/enableapi?apiid=aiplatform.googleapis.com).\n",
    "\n",
    "Learn more about [setting up a project and a development environment](https://cloud.google.com/vertex-ai/docs/start/cloud-environment).\n",
    "\n",
    "Initialize the Gen AI SDK for Python for your project."
   ]
  },
  {
   "cell_type": "code",
   "execution_count": 3,
   "metadata": {
    "id": "Nqwi-5ufWp_B",
    "tags": []
   },
   "outputs": [],
   "source": [
    "# Define project information\n",
    "PROJECT_ID = \"\"  # @param {type:\"string\"}\n",
    "LOCATION = \"\"  # @param {type:\"string\"}\n",
    "\n",
    "# Create the API client\n",
    "from google import genai\n",
    "client = genai.Client(vertexai=True, project=PROJECT_ID, location=LOCATION)"
   ]
  },
  {
   "cell_type": "markdown",
   "metadata": {
    "id": "OnFPpCRtXRl4"
   },
   "source": [
    "### Load model\n",
    "\n",
    "Learn more about all [Gemini models on Vertex AI](https://cloud.google.com/vertex-ai/generative-ai/docs/learn/models#gemini-models)."
   ]
  },
  {
   "cell_type": "code",
   "execution_count": 4,
   "metadata": {
    "id": "IQYu_9SvXQah",
    "tags": []
   },
   "outputs": [],
   "source": [
    "MODEL_ID = \"gemini-2.0-flash-001\"  # @param {type: \"string\"}"
   ]
  },
  {
   "cell_type": "markdown",
   "metadata": {
    "id": "cVOtUNJ5X0PY"
   },
   "source": [
    "## Prompt engineering best practices"
   ]
  },
  {
   "cell_type": "markdown",
   "metadata": {
    "id": "uv_e0fEPX60q"
   },
   "source": [
    "Prompt engineering is all about how to design your prompts so that the response is what you were indeed hoping to see.\n",
    "\n",
    "The idea of using \"unfancy\" prompts is to minimize the noise in your prompt to reduce the possibility of the LLM misinterpreting the intent of the prompt. Below are a few guidelines on how to engineer \"unfancy\" prompts.\n",
    "\n",
    "In this section, you'll cover the following best practices when engineering prompts:\n",
    "\n",
    "* Be concise\n",
    "* Be specific, and well-defined\n",
    "* Ask one task at a time\n",
    "* Improve response quality by including examples\n",
    "* Turn generative tasks to classification tasks to improve safety"
   ]
  },
  {
   "cell_type": "markdown",
   "metadata": {
    "id": "0pY4XX0OX9_Y"
   },
   "source": [
    "### Be concise"
   ]
  },
  {
   "cell_type": "markdown",
   "metadata": {
    "id": "xlRpxyxGYA1K"
   },
   "source": [
    "🛑 Not recommended. The prompt below is unnecessarily verbose."
   ]
  },
  {
   "cell_type": "code",
   "execution_count": 5,
   "metadata": {
    "id": "YKV4G-CfXdbi",
    "tags": []
   },
   "outputs": [
    {
     "data": {
      "text/markdown": [
       "Okay, here are some name ideas for a dried flower shop, playing on different angles:\n",
       "\n",
       "**Emphasizing the Dried/Preserved Aspect:**\n",
       "\n",
       "*   **The Everbloom:** Classic, elegant, and speaks to lasting beauty.\n",
       "*   **Lasting Petals:** Simple, direct, and easy to remember.\n",
       "*   **Preserved Posies:** Alliterative and charming.\n",
       "*   **The Dried Bouquet:** Straightforward and descriptive.\n",
       "*   **Eternal Blooms:** Implies lasting beauty and timelessness.\n",
       "*   **The Still Life Florist:** Connects to art and enduring beauty.\n",
       "*   **Amberflora:** Evokes the preservation and golden hues often found in dried arrangements.\n",
       "*   **Dust & Bloom:** A more modern, slightly edgy take on the concept.\n",
       "*   **Fossil Flora:** Unique and intriguing, hints at a natural history vibe.\n",
       "\n",
       "**Highlighting Beauty & Artistry:**\n",
       "\n",
       "*   **The Gilded Stem:** Suggests a touch of luxury and artistry.\n",
       "*   **Petal & Plume:** Focuses on textures and visual appeal.\n",
       "*   **The Artful Arrangement:** Emphasizes the skill involved.\n",
       "*   **Whispers of Wildflowers:** Romantic and evocative, even for dried flowers.\n",
       "*   **The Golden Hour Florist:** Captures the warm, rich tones often associated with dried arrangements.\n",
       "\n",
       "**Focusing on Uniqueness & Style:**\n",
       "\n",
       "*   **The Wildflower Alchemist:** Suggests a bit of magic and transformation.\n",
       "*   **The Botanical Curio:** Hints at unique and interesting finds.\n",
       "*   **The Dried Goods Co.:** Simple, modern, and a bit rustic.\n",
       "*   **Gather & Grain:** Focuses on natural elements and textures.\n",
       "*   **The Sustainable Stem:** Appeals to eco-conscious customers (if your sourcing is sustainable).\n",
       "\n",
       "**Location Specific (if applicable):**\n",
       "\n",
       "*   [Town/City Name] **Dried**\n",
       "*   **The** [Street Name] **Florist** (if you have a prominent location)\n",
       "\n",
       "**Tips for Choosing the Best Name:**\n",
       "\n",
       "*   **Check Availability:**  Make sure the name isn't already in use by another florist in your area, and that the domain name and social media handles are available.\n",
       "*   **Target Audience:** Consider who you're trying to attract.  A more rustic name might appeal to a different customer than a sleek, modern one.\n",
       "*   **Memorability:**  Is the name easy to remember and pronounce?\n",
       "*   **Branding Potential:** Does the name lend itself well to a logo and overall brand aesthetic?\n",
       "*   **Say it Out Loud:**  How does the name sound when you say it?\n",
       "\n",
       "I hope this list gives you a great starting point! Good luck with your flower shop!\n"
      ],
      "text/plain": [
       "<IPython.core.display.Markdown object>"
      ]
     },
     "metadata": {},
     "output_type": "display_data"
    }
   ],
   "source": [
    "prompt = \"What do you think could be a good name for a flower shop that specializes in selling bouquets of dried flowers more than fresh flowers?\"\n",
    "\n",
    "response = client.models.generate_content(model=MODEL_ID, contents=prompt)\n",
    "display(Markdown(response.text))"
   ]
  },
  {
   "cell_type": "markdown",
   "metadata": {
    "id": "YrJexRHJYnmC"
   },
   "source": [
    "✅ Recommended. The prompt below is to the point and concise."
   ]
  },
  {
   "cell_type": "code",
   "execution_count": 6,
   "metadata": {
    "id": "VHetn9lCYrXB",
    "tags": []
   },
   "outputs": [
    {
     "data": {
      "text/markdown": [
       "Okay, here are some name suggestions for a dried flower shop, playing on different angles like longevity, beauty, and the unique nature of dried arrangements:\n",
       "\n",
       "**Emphasizing Longevity & Permanence:**\n",
       "\n",
       "*   **The Everbloom Atelier:** (Atelier suggests artistry)\n",
       "*   **Lasting Petals:** Simple and direct.\n",
       "*   **The Preserved Posy:**  Charming and traditional.\n",
       "*   **Eternal Blooms:** Classic and impactful.\n",
       "*   **Timeless Flora:** Elegant and sophisticated.\n",
       "*   **The Dried Garden:** Suggests a curated collection.\n",
       "*   **Still Life Stems:**  Artistic and evocative.\n",
       "*   **Anthology of Everlasting:**  Sounds high-end and curated.\n",
       "\n",
       "**Focusing on Beauty & Artistry:**\n",
       "\n",
       "*   **The Golden Bloom:** Suggests warmth and richness.\n",
       "*   **Dust & Bloom:**  A little edgy, hinting at the natural process.\n",
       "*   **The Sepia Stem:**  References the vintage aesthetic often associated with dried flowers.\n",
       "*   **Floral Echoes:** Poetic and memorable.\n",
       "*   **The Paper Petal:** Suggests the delicate nature.\n",
       "*   **Artisan Dried:**  Highlights the handcrafted aspect.\n",
       "*   **Wither & Wonder:**  Intriguing and memorable.\n",
       "\n",
       "**Highlighting Uniqueness & the Natural Process:**\n",
       "\n",
       "*   **The Rustic Bloom:**  Appeals to a farmhouse/country aesthetic.\n",
       "*   **Sunbaked Stems:**  Evokes the drying process.\n",
       "*   **The Wildflower Archive:**  Suggests a collection of natural, untamed beauty.\n",
       "*   **Naturally Dried:**  Simple, honest, and informative.\n",
       "*   **Earth & Bloom:**  Connects to nature and growth.\n",
       "*   **Gathered & Dried:** Implies hand-picked and carefully preserved.\n",
       "\n",
       "**Modern & Minimalist:**\n",
       "\n",
       "*   **Dried.** (Simple and direct)\n",
       "*   **Bloomist:** (Short, catchy, and suggests expertise)\n",
       "*   **The Dry Bloom:**  Clean and modern.\n",
       "*   **Faded Flora:** Slightly edgy, but memorable.\n",
       "*   **Studio Dried:** Sounds professional and artistic.\n",
       "\n",
       "**Tips for Choosing a Name:**\n",
       "\n",
       "*   **Consider your target audience:** Are you aiming for a high-end clientele or a more rustic/bohemian market?\n",
       "*   **Check for availability:** Make sure the name isn't already in use by another flower shop (especially online) and that you can secure a domain name.\n",
       "*   **Say it out loud:** Does it sound good? Is it easy to pronounce and remember?\n",
       "*   **Get feedback:** Ask friends and family for their opinions.\n",
       "*   **Think about your branding:** Does the name align with the overall aesthetic and vibe of your shop?\n",
       "\n",
       "Good luck! I hope this helps you find the perfect name.\n"
      ],
      "text/plain": [
       "<IPython.core.display.Markdown object>"
      ]
     },
     "metadata": {},
     "output_type": "display_data"
    }
   ],
   "source": [
    "prompt = \"Suggest a name for a flower shop that sells bouquets of dried flowers\"\n",
    "\n",
    "response = client.models.generate_content(model=MODEL_ID, contents=prompt)\n",
    "display(Markdown(response.text))"
   ]
  },
  {
   "cell_type": "markdown",
   "metadata": {
    "id": "eXTAvdOHY0OC"
   },
   "source": [
    "### Be specific, and well-defined"
   ]
  },
  {
   "cell_type": "markdown",
   "metadata": {
    "id": "FTH4GEIgY1dp"
   },
   "source": [
    "Suppose that you want to brainstorm creative ways to describe Earth."
   ]
  },
  {
   "cell_type": "markdown",
   "metadata": {
    "id": "o5BmXBiGY4KC"
   },
   "source": [
    "🛑 The prompt below might be a bit too generic (which is certainly OK if you'd like to ask a generic question!)"
   ]
  },
  {
   "cell_type": "code",
   "execution_count": 7,
   "metadata": {
    "id": "eHBaMvv7Y6mR",
    "tags": []
   },
   "outputs": [
    {
     "data": {
      "text/markdown": [
       "Okay, let's talk about Earth! It's a fascinating place, and there's so much to cover. Here's a breakdown of some key aspects:\n",
       "\n",
       "**Basics:**\n",
       "\n",
       "*   **Name:** Earth (also known as Gaia)\n",
       "*   **Position:** Third planet from the Sun in our Solar System\n",
       "*   **Type:** Terrestrial (rocky) planet\n",
       "*   **Size:** Fifth largest planet in the Solar System (diameter: about 12,742 km / 7,918 miles)\n",
       "*   **Age:** Approximately 4.54 billion years old\n",
       "*   **Atmosphere:** Primarily nitrogen (about 78%) and oxygen (about 21%), with small amounts of other gases like argon, carbon dioxide, and water vapor.  This atmosphere is crucial for supporting life.\n",
       "*   **Rotation:** Rotates on its axis once every 24 hours (approximately), creating day and night.\n",
       "*   **Orbit:** Orbits the Sun in about 365.25 days, creating a year. The Earth's axial tilt (about 23.5 degrees) is responsible for the seasons.\n",
       "*   **Satellite:** One natural satellite: the Moon.\n",
       "\n",
       "**Key Features:**\n",
       "\n",
       "*   **Liquid Water:** The only known planet in the Solar System with stable bodies of liquid water on its surface. This is essential for life as we know it.  Oceans cover about 71% of Earth's surface.\n",
       "*   **Continents:** Large landmasses that rise above the ocean. There are traditionally seven continents: Africa, Antarctica, Asia, Australia, Europe, North America, and South America.\n",
       "*   **Plate Tectonics:** The Earth's crust is divided into several large and small plates that are constantly moving. This movement causes earthquakes, volcanic eruptions, and the formation of mountains.\n",
       "*   **Magnetic Field:** Generated by the movement of molten iron in the Earth's outer core. This magnetic field protects us from harmful solar radiation.\n",
       "*   **Life:** As far as we know, the only place in the universe where life exists. The Earth is home to an incredible diversity of plants, animals, and microorganisms.\n",
       "\n",
       "**Internal Structure:**\n",
       "\n",
       "*   **Crust:** The outermost layer, relatively thin and rigid.  It's divided into oceanic crust (thinner and denser) and continental crust (thicker and less dense).\n",
       "*   **Mantle:** A thick, mostly solid layer beneath the crust. It makes up the majority of Earth's volume. The uppermost part of the mantle, along with the crust, forms the lithosphere. Below that is the asthenosphere, a partially molten layer that allows the lithospheric plates to move.\n",
       "*   **Outer Core:** A liquid layer composed mainly of iron and nickel. The movement of this liquid metal is what generates Earth's magnetic field.\n",
       "*   **Inner Core:** A solid sphere of iron and nickel at the center of the Earth. It's under immense pressure and temperature.\n",
       "\n",
       "**Why is Earth Habitable?**\n",
       "\n",
       "Several factors contribute to Earth's habitability:\n",
       "\n",
       "*   **Distance from the Sun:** Earth is located in the \"Goldilocks zone,\" where temperatures are just right for liquid water to exist.\n",
       "*   **Atmosphere:** Provides a protective layer against harmful radiation and helps regulate temperature.\n",
       "*   **Magnetic Field:** Shields the planet from solar wind and cosmic rays.\n",
       "*   **Water:** Essential for all known forms of life.\n",
       "*   **Plate Tectonics:** Helps regulate the Earth's temperature and carbon cycle.\n",
       "\n",
       "**Interesting Facts:**\n",
       "\n",
       "*   The highest point on Earth is Mount Everest, and the lowest point is the Mariana Trench.\n",
       "*   The Earth is not perfectly round; it's slightly flattened at the poles and bulges at the equator (an oblate spheroid).\n",
       "*   The Earth's rotation is gradually slowing down, making days slightly longer over time.\n",
       "*   There is evidence that Earth once had multiple moons.\n",
       "*   Humans have only explored a tiny fraction of the Earth's oceans.\n",
       "\n",
       "**Challenges Facing Earth:**\n",
       "\n",
       "*   **Climate Change:** Primarily caused by human activities that release greenhouse gases into the atmosphere, leading to rising temperatures, sea-level rise, and more extreme weather events.\n",
       "*   **Pollution:** Air, water, and soil pollution can harm human health and the environment.\n",
       "*   **Deforestation:** The clearing of forests for agriculture, logging, and other purposes can lead to habitat loss, soil erosion, and climate change.\n",
       "*   **Biodiversity Loss:** The extinction of plant and animal species is occurring at an alarming rate.\n",
       "*   **Resource Depletion:** The overuse of natural resources, such as water, minerals, and fossil fuels, is unsustainable.\n",
       "\n",
       "**In short, Earth is a dynamic and complex planet with a unique combination of features that make it habitable. It faces significant challenges, but also offers incredible beauty and opportunities for exploration and discovery.**\n",
       "\n",
       "Is there anything specific about Earth you'd like to know more about?  For example, are you interested in:\n",
       "\n",
       "*   The Earth's history?\n",
       "*   Climate change?\n",
       "*   Specific geographic features?\n",
       "*   Life on Earth?\n",
       "*   Something else entirely?\n"
      ],
      "text/plain": [
       "<IPython.core.display.Markdown object>"
      ]
     },
     "metadata": {},
     "output_type": "display_data"
    }
   ],
   "source": [
    "prompt = \"Tell me about Earth\"\n",
    "\n",
    "response = client.models.generate_content(model=MODEL_ID, contents=prompt)\n",
    "display(Markdown(response.text))"
   ]
  },
  {
   "cell_type": "markdown",
   "metadata": {
    "id": "4iyvEbteZnFL"
   },
   "source": [
    "✅ Recommended. The prompt below is specific and well-defined."
   ]
  },
  {
   "cell_type": "code",
   "execution_count": 8,
   "metadata": {
    "id": "JQ80z8urZnne",
    "tags": []
   },
   "outputs": [
    {
     "data": {
      "text/markdown": [
       "Okay, here's a list of things that make Earth unique compared to other planets we know of (as of today's date). It's important to remember that our understanding is constantly evolving, and future discoveries may change this list.\n",
       "\n",
       "**Core Features Enabling Life:**\n",
       "\n",
       "*   **Liquid Water on the Surface:** Earth is the only planet we know of with stable bodies of liquid water on its surface. This is crucial for life as we know it, acting as a solvent for biochemical reactions and a medium for transportation.\n",
       "*   **Oxygen-Rich Atmosphere:** Our atmosphere is approximately 21% oxygen, a byproduct of photosynthetic life. This allows for complex, energy-intensive life forms like animals to thrive. Most other planetary atmospheres are dominated by carbon dioxide, nitrogen, or hydrogen/helium.\n",
       "*   **Plate Tectonics:** Earth's crust is divided into plates that move and interact. This process recycles materials, regulates temperature, and creates diverse landforms, which plays a role in the carbon cycle and long-term climate stability.  While some evidence suggests tectonic activity on other planets in the past, Earth is the only one currently confirmed to have active plate tectonics.\n",
       "*   **Strong Magnetic Field:** Generated by its iron core, Earth's magnetic field deflects harmful solar wind and cosmic radiation, protecting the atmosphere and surface life.\n",
       "*   **Ozone Layer:** A layer in the stratosphere rich in ozone (O3) absorbs most of the Sun's harmful ultraviolet (UV) radiation, which would otherwise be deadly to most life forms.\n",
       "*   **Stable Climate:** While Earth's climate has changed over geological time, it has generally remained within a range suitable for liquid water and life. This is due to a complex interplay of factors including the atmosphere, oceans, and geological processes.\n",
       "\n",
       "**Features Related to Location and Formation:**\n",
       "\n",
       "*   **Goldilocks Zone (Circumstellar Habitable Zone):** Earth orbits the Sun at a distance that allows for liquid water to exist on its surface, neither too hot nor too cold.\n",
       "*   **Relatively Large, Stabilizing Moon:** Our unusually large moon stabilizes Earth's axial tilt, preventing extreme climate swings over long periods.\n",
       "*   **Orbital Characteristics:** Earth's nearly circular orbit and axial tilt contribute to relatively predictable seasons and a stable climate.\n",
       "*   **Age and History:** Earth's age (approximately 4.5 billion years) has allowed for the evolution of complex life. The specific sequence of events in Earth's history (e.g., the Great Oxidation Event) are also unique.\n",
       "\n",
       "**Features Related to Life:**\n",
       "\n",
       "*   **Abundant and Diverse Life:** Earth is the only planet we know of that harbors life, let alone a biosphere with the sheer diversity and complexity of organisms.\n",
       "*   **Technological Civilization:**  Earth is, as far as we know, the only planet to have developed a technological civilization capable of altering its environment on a global scale. This is a double-edged sword, of course.\n",
       "*   **Biosignatures:** Earth's atmosphere exhibits unique biosignatures (gases produced by life), like oxygen and methane, that are far out of equilibrium compared to what would be expected from purely geochemical processes.\n",
       "*   **A Continuously Changing Surface:** The only planet with clear proof of the use of advanced technology, like roads, farms, and cities, are apparent.\n",
       "\n",
       "**Important Considerations:**\n",
       "\n",
       "*   **Selection Bias:** We know Earth intimately because we live here. Our search for exoplanets is biased towards finding planets similar to Earth, making comparisons difficult.\n",
       "*   **Limited Data:** Our understanding of exoplanets is still relatively limited. We can often determine their size, mass, and orbital characteristics, but we know very little about their atmospheres, geology, or potential for life.\n",
       "*   **Definition of \"Unique\":** What constitutes \"unique\" is subjective. Some features may exist on other planets, but not in the same combination or to the same degree as on Earth.\n",
       "*   **Ongoing Discovery:** The discovery of new exoplanets is rapidly changing our understanding of planetary systems. It is possible that Earth-like planets are more common than we currently think.\n",
       "\n",
       "This list represents our current understanding, and it will likely evolve as we continue to explore our solar system and discover new worlds beyond.\n"
      ],
      "text/plain": [
       "<IPython.core.display.Markdown object>"
      ]
     },
     "metadata": {},
     "output_type": "display_data"
    }
   ],
   "source": [
    "prompt = \"Generate a list of ways that makes Earth unique compared to other planets\"\n",
    "\n",
    "response = client.models.generate_content(model=MODEL_ID, contents=prompt)\n",
    "display(Markdown(response.text))"
   ]
  },
  {
   "cell_type": "markdown",
   "metadata": {
    "id": "R5kmfZYHZsJ7"
   },
   "source": [
    "### Ask one task at a time"
   ]
  },
  {
   "cell_type": "markdown",
   "metadata": {
    "id": "rsAezxeYZuUN"
   },
   "source": [
    "🛑 Not recommended. The prompt below has two parts to the question that could be asked separately."
   ]
  },
  {
   "cell_type": "code",
   "execution_count": 9,
   "metadata": {
    "id": "ElywPXpuZtWf",
    "tags": []
   },
   "outputs": [
    {
     "data": {
      "text/markdown": [
       "Let's tackle these two questions separately:\n",
       "\n",
       "**Boiling Water: Best Method**\n",
       "\n",
       "There's no single \"best\" method for boiling water, as it depends on your priorities: speed, energy efficiency, convenience, and available resources. Here's a breakdown:\n",
       "\n",
       "*   **Electric Kettle:**\n",
       "\n",
       "    *   **Pros:** Generally the **fastest** for small to medium quantities (1-2 liters).  Very **efficient** because all the energy is directed into heating the water. **Convenient** and often has automatic shut-off features.\n",
       "    *   **Cons:** Requires electricity.  Potentially less durable than stovetop kettles. Can be more expensive upfront than other methods.\n",
       "\n",
       "*   **Stovetop Kettle:**\n",
       "\n",
       "    *   **Pros:**  Reliable, durable. Works on gas, electric, or induction stovetops. No need to worry about electronic malfunction. Visually appealing, particularly older models.\n",
       "    *   **Cons:** Can be slower than electric kettles, especially on older stoves. Requires more monitoring than an electric kettle to prevent boiling dry. Less efficient than electric kettles (more energy lost to the surrounding environment).\n",
       "\n",
       "*   **Microwave:**\n",
       "\n",
       "    *   **Pros:**  **Fast** for very small quantities (e.g., a single cup). Convenient.\n",
       "    *   **Cons:** Can be **uneven heating**, potentially leading to superheating (water heats beyond its boiling point without boiling, then violently erupts when disturbed).  Not very energy-efficient.  Not suitable for large volumes.  Not ideal for tea or coffee, as microwave heating can affect the taste.\n",
       "\n",
       "*   **Pot on the Stovetop:**\n",
       "\n",
       "    *   **Pros:** Can handle large volumes of water. Works on gas, electric, or induction stovetops.\n",
       "    *   **Cons:**  Slower than a kettle due to the open surface area, leading to heat loss. Less energy-efficient.\n",
       "\n",
       "*   **Induction Cooktop:**\n",
       "\n",
       "    *   **Pros:** Very fast and efficient when used with induction-compatible cookware (e.g., a stainless steel kettle with a flat bottom).\n",
       "    *   **Cons:** Requires induction-compatible cookware and an induction cooktop.\n",
       "\n",
       "**Summary Table:**\n",
       "\n",
       "| Method           | Speed   | Efficiency | Convenience | Volume      | Considerations                                                              |\n",
       "| ---------------- | ------- | ---------- | ----------- | ----------- | --------------------------------------------------------------------------- |\n",
       "| Electric Kettle  | Fast    | High       | High        | Small/Medium | Requires electricity, potential durability issues.                           |\n",
       "| Stovetop Kettle   | Medium  | Medium     | Medium      | Small/Medium | Versatile, but requires monitoring.                                      |\n",
       "| Microwave        | Fast    | Low        | High        | Very Small  | Uneven heating, potential for superheating, affects taste.                |\n",
       "| Pot on Stovetop | Slow    | Low        | Medium      | Large       | Least efficient, slower boiling time.                                     |\n",
       "| Induction        | Fast    | High       | Medium/High | All Sizes   | Requires induction-compatible cookware and cooktop.                          |\n",
       "\n",
       "**Conclusion:**\n",
       "\n",
       "*   **For Speed & Efficiency (Small to Medium Quantities):** Electric kettle\n",
       "*   **For Reliability & Versatility:** Stovetop Kettle\n",
       "*   **For a Quick Cup:** Microwave (with caution)\n",
       "*   **For Large Quantities:** Pot on the stovetop (but be patient)\n",
       "\n",
       "---\n",
       "\n",
       "**Why is the sky blue?**\n",
       "\n",
       "The sky is blue due to a phenomenon called **Rayleigh scattering**.  Here's the explanation:\n",
       "\n",
       "1.  **Sunlight and the Atmosphere:** Sunlight is made up of all the colors of the rainbow. When sunlight enters the Earth's atmosphere, it collides with tiny air molecules (mostly nitrogen and oxygen).\n",
       "\n",
       "2.  **Scattering of Light:**  This collision causes the light to scatter in different directions. The amount of scattering depends on the wavelength (color) of the light.\n",
       "\n",
       "3.  **Rayleigh Scattering is Wavelength Dependent:**  Rayleigh scattering is much more effective at shorter wavelengths (blue and violet light) than at longer wavelengths (red and orange light). The amount of scattering is inversely proportional to the fourth power of the wavelength. This means that blue light is scattered about 10 times more than red light.\n",
       "\n",
       "4.  **Why Blue, Not Violet?:**  While violet light has an even shorter wavelength than blue light and should be scattered even more, there are a few reasons why we see a blue sky instead of a violet sky:\n",
       "    *   **Sunlight's Spectrum:** The sun emits less violet light than blue light.\n",
       "    *   **Atmospheric Absorption:** The atmosphere absorbs some violet light.\n",
       "    *   **Our Eyes are More Sensitive to Blue:** Our eyes are more sensitive to blue light than violet light.\n",
       "\n",
       "**In simpler terms:**\n",
       "\n",
       "Think of the air molecules as tiny obstacles. Sunlight bumps into these obstacles, and the blue light gets bounced around much more than other colors. This scattered blue light reaches our eyes from all directions, making the sky appear blue.\n",
       "\n",
       "**What about sunsets?**\n",
       "\n",
       "At sunset and sunrise, the sunlight has to travel through more of the atmosphere to reach our eyes. This means that most of the blue light has already been scattered away. The longer wavelengths, like red and orange, are less affected by scattering and can make it through, resulting in the beautiful red and orange colors we see at sunset and sunrise.\n"
      ],
      "text/plain": [
       "<IPython.core.display.Markdown object>"
      ]
     },
     "metadata": {},
     "output_type": "display_data"
    }
   ],
   "source": [
    "prompt = \"What's the best method of boiling water and why is the sky blue?\"\n",
    "\n",
    "response = client.models.generate_content(model=MODEL_ID, contents=prompt)\n",
    "display(Markdown(response.text))"
   ]
  },
  {
   "cell_type": "markdown",
   "metadata": {
    "id": "ejzahazBZ8vk"
   },
   "source": [
    "✅ Recommended. The prompts below asks one task a time."
   ]
  },
  {
   "cell_type": "code",
   "execution_count": 10,
   "metadata": {
    "id": "C5ckp2F0Z_Ba",
    "tags": []
   },
   "outputs": [
    {
     "data": {
      "text/markdown": [
       "The \"best\" method of boiling water depends on your priorities: speed, energy efficiency, convenience, and the amount of water you need. Here's a breakdown of the most common methods and their pros and cons:\n",
       "\n",
       "**1. Electric Kettle:**\n",
       "\n",
       "*   **Pros:**\n",
       "    *   **Fastest:** Typically boils water very quickly, especially for smaller quantities.\n",
       "    *   **Energy Efficient (for small amounts):** Efficient for boiling smaller amounts as it heats only the water you need.\n",
       "    *   **Convenient:** Easy to use, often with automatic shut-off features.\n",
       "    *   **Safety:** Often includes safety features like boil-dry protection.\n",
       "*   **Cons:**\n",
       "    *   **Limited Capacity:** Usually holds a limited amount of water.\n",
       "    *   **Needs Electricity:** Requires a power outlet.\n",
       "    *   **Potential Plastic Taste (some models):** Some older or cheaper kettles can impart a plastic taste, though many modern kettles use stainless steel or glass interiors.\n",
       "\n",
       "**2. Stovetop Kettle (on a gas or electric stove):**\n",
       "\n",
       "*   **Pros:**\n",
       "    *   **Larger Capacity:** Can boil larger quantities of water than an electric kettle.\n",
       "    *   **No Electricity Needed (with gas stove):** Can be used during power outages if you have a gas stove.\n",
       "    *   **Durable:** Well-made stovetop kettles can last a long time.\n",
       "*   **Cons:**\n",
       "    *   **Slower than Electric Kettle:** Takes longer to boil water compared to an electric kettle, especially with electric coil stoves.\n",
       "    *   **Less Energy Efficient (for small amounts):** Less efficient for boiling small amounts of water.\n",
       "    *   **Requires Monitoring:** You need to monitor it to prevent boiling dry.\n",
       "    *   **Potential Burn Hazard:** Hot surfaces pose a burn risk.\n",
       "\n",
       "**3. Microwave:**\n",
       "\n",
       "*   **Pros:**\n",
       "    *   **Fast (sometimes):** Can be faster than a stovetop kettle for small amounts of water.\n",
       "    *   **Convenient:** Simple to use.\n",
       "*   **Cons:**\n",
       "    *   **Uneven Heating:** Microwaves can heat water unevenly, creating \"superheated\" water that can erupt violently when disturbed.  This is a **major safety hazard**.\n",
       "    *   **Not Ideal for Tea:** Microwaving can negatively affect the flavor of tea.\n",
       "    *   **Not Energy Efficient:** Microwaves are generally not very energy-efficient for heating liquids.\n",
       "    *   **Superheating Risk:** A significant safety concern.  It's best to avoid microwaving water specifically for boiling.\n",
       "\n",
       "**4. Hot Water Dispenser:**\n",
       "\n",
       "*   **Pros:**\n",
       "    *   **Instant Hot Water:** Provides hot water on demand.\n",
       "    *   **Convenient:** Very convenient for frequent use.\n",
       "*   **Cons:**\n",
       "    *   **High Initial Cost:** More expensive than kettles.\n",
       "    *   **Requires Electricity:** Requires a power outlet.\n",
       "    *   **May Not Reach Full Boiling Point:** Some models don't reach a full boil, which might be important for certain uses (e.g., sterilizing baby bottles).\n",
       "\n",
       "**Here's a Summary Recommendation:**\n",
       "\n",
       "*   **For small amounts of water, speed, and convenience:** **Electric Kettle** is generally the best choice.\n",
       "*   **For larger amounts of water, especially if you don't have an electric kettle or need to boil water during a power outage (with a gas stove):** **Stovetop Kettle.**\n",
       "*   **Avoid Microwaving:**  The risk of superheating makes it a less desirable and potentially dangerous method.\n",
       "*   **For constant, instant hot water:** **Hot Water Dispenser** (if you need the convenience and are willing to invest).\n",
       "\n",
       "**In Conclusion:**\n",
       "\n",
       "The electric kettle is generally the best all-around method for most people, balancing speed, energy efficiency, and convenience. However, consider your specific needs and priorities when making your choice.  **Always prioritize safety, especially when dealing with hot water.**\n"
      ],
      "text/plain": [
       "<IPython.core.display.Markdown object>"
      ]
     },
     "metadata": {},
     "output_type": "display_data"
    }
   ],
   "source": [
    "prompt = \"What's the best method of boiling water?\"\n",
    "\n",
    "response = client.models.generate_content(model=MODEL_ID, contents=prompt)\n",
    "display(Markdown(response.text))"
   ]
  },
  {
   "cell_type": "code",
   "execution_count": 11,
   "metadata": {
    "id": "KwUzhud4aA89",
    "tags": []
   },
   "outputs": [
    {
     "data": {
      "text/markdown": [
       "The sky is blue due to a phenomenon called **Rayleigh scattering**. Here's a breakdown:\n",
       "\n",
       "*   **Sunlight is white, but it's made up of all the colors of the rainbow.** Each color has a different wavelength. Blue and violet have shorter wavelengths, while red and orange have longer wavelengths.\n",
       "\n",
       "*   **Sunlight enters the Earth's atmosphere and collides with air molecules (mostly nitrogen and oxygen).** This collision causes the sunlight to scatter in different directions.\n",
       "\n",
       "*   **Rayleigh scattering is much more effective at scattering shorter wavelengths.** This means blue and violet light are scattered much more than red and orange light.\n",
       "\n",
       "*   **We see the sky as blue because the scattered blue light is what reaches our eyes from all directions.**\n",
       "\n",
       "**Why not violet then?**\n",
       "\n",
       "Violet light is scattered even more than blue light. However, there are a few reasons why we see a blue sky instead of a violet one:\n",
       "\n",
       "*   **The sun emits less violet light than blue light.**\n",
       "*   **Our eyes are more sensitive to blue light than violet light.**\n",
       "*   **Some of the scattered violet light is absorbed by the upper atmosphere.**\n",
       "\n",
       "So, while violet light is scattered more, the combination of less violet light being emitted by the sun, our eyes being more sensitive to blue, and atmospheric absorption of violet light results in us seeing a predominantly blue sky.\n",
       "\n",
       "**In summary:**\n",
       "\n",
       "Sunlight hits the atmosphere. Blue light is scattered more than other colors. We see the scattered blue light, making the sky appear blue.\n"
      ],
      "text/plain": [
       "<IPython.core.display.Markdown object>"
      ]
     },
     "metadata": {},
     "output_type": "display_data"
    }
   ],
   "source": [
    "prompt = \"Why is the sky blue?\"\n",
    "\n",
    "response = client.models.generate_content(model=MODEL_ID, contents=prompt)\n",
    "display(Markdown(response.text))"
   ]
  },
  {
   "cell_type": "markdown",
   "metadata": {
    "id": "PJIL2RTQaGcT"
   },
   "source": [
    "### Watch out for hallucinations"
   ]
  },
  {
   "cell_type": "markdown",
   "metadata": {
    "id": "8Y8kYxrSaHE9"
   },
   "source": [
    "Although LLMs have been trained on a large amount of data, they can generate text containing statements not grounded in truth or reality; these responses from the LLM are often referred to as \"hallucinations\" due to their limited memorization capabilities. Note that simply prompting the LLM to provide a citation isn't a fix to this problem, as there are instances of LLMs providing false or inaccurate citations. Dealing with hallucinations is a fundamental challenge of LLMs and an ongoing research area, so it is important to be cognizant that LLMs may seem to give you confident, correct-sounding statements that are in fact incorrect.\n",
    "\n",
    "Note that if you intend to use LLMs for the creative use cases, hallucinating could actually be quite useful."
   ]
  },
  {
   "cell_type": "markdown",
   "metadata": {
    "id": "8NY5nAGeaJYS"
   },
   "source": [
    "Try the prompt like the one below repeatedly. We set the temperature to `1.0` so that it takes more risks in its choices. It's possible that it may provide an inaccurate, but confident answer."
   ]
  },
  {
   "cell_type": "code",
   "execution_count": 12,
   "metadata": {
    "id": "QALPjEILaM62",
    "tags": []
   },
   "outputs": [
    {
     "data": {
      "text/markdown": [
       "I am a large language model, and do not have access to the current date. You can easily find out what day it is by checking a calendar, looking at your phone, or searching \"what day is it\" on the internet.\n"
      ],
      "text/plain": [
       "<IPython.core.display.Markdown object>"
      ]
     },
     "metadata": {},
     "output_type": "display_data"
    }
   ],
   "source": [
    "generation_config = GenerateContentConfig(temperature=1.0)\n",
    "\n",
    "prompt = \"What day is it today?\"\n",
    "\n",
    "response = client.models.generate_content(model=MODEL_ID, contents=prompt)\n",
    "display(Markdown(response.text))"
   ]
  },
  {
   "cell_type": "markdown",
   "metadata": {
    "id": "BRkwzbgRbhKt"
   },
   "source": [
    "Since LLMs do not have access to real-time information without further integrations, you may have noticed it hallucinates what day it is today in some of the outputs."
   ]
  },
  {
   "cell_type": "markdown",
   "metadata": {
    "id": "3c811e310d02"
   },
   "source": [
    "### Using system instructions to guardrail the model from irrelevant responses\n",
    "\n",
    "How can we attempt to reduce the chances of irrelevant responses and hallucinations?\n",
    "\n",
    "One way is to provide the LLM with [system instructions](https://cloud.google.com/vertex-ai/generative-ai/docs/multimodal/send-chat-prompts-gemini#system-instructions).\n",
    "\n",
    "Let's see how system instructions works and how you can use them to reduce hallucinations or irrelevant questions for a travel chatbot.\n",
    "\n",
    "Suppose we ask a simple question about one of Italy's most famous tourist spots."
   ]
  },
  {
   "cell_type": "code",
   "execution_count": 13,
   "metadata": {
    "id": "rB6zJU76biFK",
    "tags": []
   },
   "outputs": [
    {
     "data": {
      "text/markdown": [
       "Milan offers a wealth of sightseeing opportunities. Here are some popular places to visit:\n",
       "\n",
       "*   **Duomo di Milano:** The Milan Cathedral, a stunning Gothic masterpiece.\n",
       "*   **Galleria Vittorio Emanuele II:** A beautiful 19th-century shopping arcade.\n",
       "*   **Teatro alla Scala:** A world-renowned opera house.\n",
       "*   **Sforza Castle:** A historic castle with museums and art collections.\n",
       "*   **Pinacoteca di Brera:** An art gallery with a vast collection of Italian paintings."
      ],
      "text/plain": [
       "<IPython.core.display.Markdown object>"
      ]
     },
     "metadata": {},
     "output_type": "display_data"
    }
   ],
   "source": [
    "generation_config = GenerateContentConfig(temperature=1.0)\n",
    "\n",
    "chat = client.chats.create(\n",
    "    model=MODEL_ID,\n",
    "    config=GenerateContentConfig(\n",
    "        system_instruction=[\n",
    "            \"Hello! You are an AI chatbot for a travel web site.\",\n",
    "            \"Your mission is to provide helpful queries for travelers.\",\n",
    "            \"Remember that before you answer a question, you must check to see if it complies with your mission.\",\n",
    "            \"If not, you can say, Sorry I can't answer that question.\",\n",
    "        ]\n",
    "    ),\n",
    ")\n",
    "\n",
    "prompt = \"What is the best place for sightseeing in Milan, Italy?\"\n",
    "\n",
    "response = chat.send_message(prompt)\n",
    "display(Markdown(response.text))"
   ]
  },
  {
   "cell_type": "markdown",
   "metadata": {
    "id": "WZa-Qcf9cF4A"
   },
   "source": [
    "Now let us pretend to be a user asks the chatbot a question that is unrelated to travel."
   ]
  },
  {
   "cell_type": "code",
   "execution_count": 14,
   "metadata": {
    "id": "AZKBIDr2cGnu",
    "tags": []
   },
   "outputs": [
    {
     "data": {
      "text/markdown": [
       "That is a great travel question!\n",
       "Milan offers a wealth of sightseeing opportunities. Here are some popular places to visit:\n",
       "\n",
       "*   **Duomo di Milano:** The Milan Cathedral, a stunning Gothic masterpiece.\n",
       "*   **Galleria Vittorio Emanuele II:** A beautiful 19th-century shopping arcade.\n",
       "*   **Teatro alla Scala:** A world-renowned opera house.\n",
       "*   **Sforza Castle:** A historic castle with museums and art collections.\n",
       "*   **Pinacoteca di Brera:** An art gallery with a vast collection of Italian paintings."
      ],
      "text/plain": [
       "<IPython.core.display.Markdown object>"
      ]
     },
     "metadata": {},
     "output_type": "display_data"
    }
   ],
   "source": [
    "prompt = \"What is the best place for sightseeing in Milan, Italy?\"\n",
    "\n",
    "response = chat.send_message(prompt)\n",
    "display(Markdown(response.text))"
   ]
  },
  {
   "cell_type": "markdown",
   "metadata": {
    "id": "JiUYIhwpctCy"
   },
   "source": [
    "You can see that this way, a guardrail in the prompt prevented the chatbot from veering off course."
   ]
  },
  {
   "cell_type": "markdown",
   "metadata": {
    "id": "ZuuDhA37cvmP"
   },
   "source": [
    "### Turn generative tasks into classification tasks to reduce output variability"
   ]
  },
  {
   "cell_type": "markdown",
   "metadata": {
    "id": "kUCUrsUzczmb"
   },
   "source": [
    "#### Generative tasks lead to higher output variability"
   ]
  },
  {
   "cell_type": "markdown",
   "metadata": {
    "id": "a1xASHAkc46n"
   },
   "source": [
    "The prompt below results in an open-ended response, useful for brainstorming, but response is highly variable."
   ]
  },
  {
   "cell_type": "code",
   "execution_count": 16,
   "metadata": {
    "id": "nPfXQWIacwRf",
    "tags": []
   },
   "outputs": [
    {
     "data": {
      "text/markdown": [
       "Okay, given that you're a high school student looking to improve your programming skills, I'm going to recommend a few different options based on potential skill level and interests. I'll try to provide a good mix of projects that are fun, challenging, and build valuable skills.  I'll also suggest how to tailor them for different skill levels.\n",
       "\n",
       "**Key Considerations:**\n",
       "\n",
       "*   **Language:**  I'll assume you have *some* familiarity with at least one language, but I'll make recommendations that are generally suitable for languages like Python, JavaScript, Java, or C++.  Python is generally a great choice for beginners due to its readability and vast libraries.\n",
       "*   **Interest:**  The best project is one that you're genuinely interested in.  This will keep you motivated!\n",
       "*   **Scope:**  It's better to start small and build up.  Don't try to create the next Facebook in your first project!\n",
       "*   **Learning Resources:** I'll suggest resources to help you along the way.\n",
       "\n",
       "Here are a few options, ranging from beginner-friendly to slightly more advanced:\n",
       "\n",
       "**1. Beginner-Friendly: Text-Based Adventure Game**\n",
       "\n",
       "*   **Concept:**  A classic! The user interacts with the game by typing commands (e.g., \"go north,\" \"take sword,\" \"look\"). The game describes the environment and presents choices.\n",
       "*   **Skills Developed:**\n",
       "    *   **Basic Input/Output:**  Getting input from the user and printing output.\n",
       "    *   **Conditional Statements (if/else):**  Controlling the flow of the game based on user actions.\n",
       "    *   **Variables:**  Storing game state (e.g., player's inventory, location).\n",
       "    *   **Loops (while):**  Keeping the game running until the player wins or loses.\n",
       "    *   **String Manipulation:** Processing the user's text input.\n",
       "*   **How to Tailor:**\n",
       "    *   **Beginner:**  Start with a very simple game: one or two rooms, a single item, and a simple goal.\n",
       "    *   **Intermediate:** Add more rooms, items, puzzles, and even simple enemies. You could create a map using a dictionary or list of lists.\n",
       "    *   **Advanced:**  Implement more complex interactions, a scoring system, and maybe even a rudimentary combat system.  Consider saving and loading game progress.  You could even try adding a simple GUI (Graphical User Interface) using a library like Tkinter (Python) or similar.\n",
       "*   **Example (Python):**\n",
       "\n",
       "```python\n",
       "def main():\n",
       "    print(\"You are standing in a dark forest.\")\n",
       "    print(\"A path leads north and east.\")\n",
       "\n",
       "    while True:\n",
       "        direction = input(\"Which way do you go? (north/east/quit): \").lower()\n",
       "\n",
       "        if direction == \"north\":\n",
       "            print(\"You enter a clearing.\")\n",
       "            # Add more to the game here\n",
       "        elif direction == \"east\":\n",
       "            print(\"You find a hidden treasure!\")\n",
       "            break  # End the game\n",
       "        elif direction == \"quit\":\n",
       "            print(\"Goodbye!\")\n",
       "            break\n",
       "        else:\n",
       "            print(\"Invalid direction.\")\n",
       "\n",
       "if __name__ == \"__main__\":\n",
       "    main()\n",
       "```\n",
       "\n",
       "*   **Resources:**\n",
       "    *   Search online for \"Python text adventure tutorial\" (or replace Python with your language of choice). There are tons of resources available.\n",
       "\n",
       "**2. Intermediate: Simple Calculator with GUI**\n",
       "\n",
       "*   **Concept:** Create a calculator application with a graphical user interface.\n",
       "*   **Skills Developed:**\n",
       "    *   **GUI Programming:** Learning to use a GUI library (Tkinter for Python, Swing or JavaFX for Java, HTML/CSS/JavaScript for web-based).\n",
       "    *   **Event Handling:**  Responding to button clicks and other user actions.\n",
       "    *   **Basic Arithmetic Operations:**  Performing calculations.\n",
       "    *   **String Conversion:**  Converting text from the GUI to numbers and back.\n",
       "*   **How to Tailor:**\n",
       "    *   **Beginner:**  Start with the basic four functions (+, -, *, /).\n",
       "    *   **Intermediate:** Add more advanced functions (square root, exponentiation, trigonometric functions).\n",
       "    *   **Advanced:**  Implement memory functions (M+, M-, MR, MC), error handling (division by zero), and a more polished user interface. Consider adding a history log of calculations.\n",
       "*   **Resources:**\n",
       "    *   Search for tutorials on GUI programming in your chosen language (e.g., \"Python Tkinter calculator tutorial\").\n",
       "\n",
       "**3. Intermediate/Advanced:  Web Scraper**\n",
       "\n",
       "*   **Concept:**  Write a program that automatically extracts data from a website.  For example, you could scrape product prices from an online store, extract headlines from a news website, or gather data from a sports statistics page.\n",
       "*   **Skills Developed:**\n",
       "    *   **HTTP Requests:**  Downloading web pages using libraries like `requests` (Python) or `fetch` (JavaScript).\n",
       "    *   **HTML Parsing:**  Extracting relevant information from HTML using libraries like `Beautiful Soup` (Python) or `cheerio` (JavaScript).\n",
       "    *   **Regular Expressions (Regex):**  Powerful pattern matching for finding specific text within the HTML.\n",
       "    *   **Data Storage:**  Saving the scraped data to a file (e.g., CSV, JSON) or a database.\n",
       "*   **How to Tailor:**\n",
       "    *   **Beginner:**  Start with a very simple website and extract just one or two pieces of information.  Make sure the website allows scraping (check its `robots.txt` file).\n",
       "    *   **Intermediate:**  Scrape multiple pages, handle pagination (the \"next page\" links), and extract more complex data.\n",
       "    *   **Advanced:**  Deal with websites that use JavaScript to load content (you might need to use a library like Selenium or Puppeteer to execute JavaScript).  Implement error handling to gracefully handle broken links or changes in the website's structure. Consider rate limiting to avoid overwhelming the website.\n",
       "*   **Example (Python with Beautiful Soup):**\n",
       "\n",
       "```python\n",
       "import requests\n",
       "from bs4 import BeautifulSoup\n",
       "\n",
       "url = \"https://example.com\"  # Replace with the website you want to scrape\n",
       "\n",
       "try:\n",
       "    response = requests.get(url)\n",
       "    response.raise_for_status()  # Raise an exception for bad status codes (404, 500, etc.)\n",
       "\n",
       "    soup = BeautifulSoup(response.content, \"html.parser\")\n",
       "\n",
       "    # Example: Extract all the links on the page\n",
       "    for link in soup.find_all(\"a\"):\n",
       "        print(link.get(\"href\"))\n",
       "\n",
       "except requests.exceptions.RequestException as e:\n",
       "    print(f\"Error: {e}\")\n",
       "\n",
       "```\n",
       "\n",
       "*   **Resources:**\n",
       "    *   Search for \"web scraping tutorial Python\" (or your language of choice).\n",
       "    *   Beautiful Soup Documentation: [https://www.crummy.com/software/BeautifulSoup/bs4/doc/](https://www.crummy.com/software/BeautifulSoup/bs4/doc/)\n",
       "    *   Requests Library Documentation: [https://requests.readthedocs.io/en/latest/](https://requests.readthedocs.io/en/latest/)\n",
       "    *   Be aware of the ethical considerations of web scraping. Always respect the website's terms of service and robots.txt file.\n",
       "**4. Slightly More Advanced: Simple Chatbot**\n",
       "\n",
       "*   **Concept:**  Create a chatbot that can respond to user input.  This can be a text-based chatbot or one integrated with a messaging platform (like Discord).\n",
       "*   **Skills Developed:**\n",
       "    *   **Natural Language Processing (NLP) (Basic):**  Understanding and responding to user input.  You might use simple keyword matching or more advanced NLP techniques.\n",
       "    *   **Data Structures:**  Storing chatbot responses and knowledge.\n",
       "    *   **API Integration (Optional):** Connecting to external services (e.g., weather APIs, news APIs).\n",
       "    *   **State Management:**  Remembering the context of the conversation.\n",
       "*   **How to Tailor:**\n",
       "    *   **Beginner:**  Create a very simple chatbot that responds to a few specific keywords.\n",
       "    *   **Intermediate:**  Use a more sophisticated NLP library (like NLTK in Python) to understand more complex sentences.  Add more knowledge to the chatbot.\n",
       "    *   **Advanced:**  Train a machine learning model to understand user input.  Integrate the chatbot with a messaging platform.\n",
       "*   **Resources:**\n",
       "    *   Search for \"Python chatbot tutorial\" (or your language of choice).\n",
       "    *   NLTK (Natural Language Toolkit): [https://www.nltk.org/](https://www.nltk.org/) (for Python)\n",
       "    *   Dialogflow (Google): A platform for building conversational interfaces.\n",
       "    *   Rasa: An open-source conversational AI framework.\n",
       "**General Tips for Success:**\n",
       "\n",
       "*   **Break the Project Down:** Divide your project into smaller, manageable tasks.\n",
       "*   **Use Version Control (Git):**  Learn to use Git and GitHub to track your changes and collaborate with others.\n",
       "*   **Test Your Code:**  Write tests to ensure your code is working correctly.\n",
       "*   **Don't Be Afraid to Ask for Help:**  If you get stuck, don't hesitate to ask for help on Stack Overflow, Reddit, or other online forums.\n",
       "*   **Document Your Code:**  Write comments to explain what your code does. This will help you (and others) understand it later.\n",
       "*   **Be Patient:**  Programming takes time and effort. Don't get discouraged if you don't understand something right away.\n",
       "\n",
       "**How to Choose:**\n",
       "\n",
       "1.  **Think about your interests:** What kind of applications or games do you enjoy using?\n",
       "2.  **Assess your skill level:** Be honest with yourself about what you already know.\n",
       "3.  **Start small:** Choose a project that you can complete in a reasonable amount of time.\n",
       "4.  **Don't be afraid to experiment:** Try different things and see what works best for you.\n",
       "\n",
       "Good luck, and have fun!  Let me know if you have any other questions.  I can provide more specific guidance if you tell me which language you prefer to use and what types of projects you find interesting.\n"
      ],
      "text/plain": [
       "<IPython.core.display.Markdown object>"
      ]
     },
     "metadata": {},
     "output_type": "display_data"
    }
   ],
   "source": [
    "prompt = \"I'm a high school student. Recommend me a programming activity to improve my skills.\"\n",
    "\n",
    "response = client.models.generate_content(model=MODEL_ID, contents=prompt)\n",
    "display(Markdown(response.text))"
   ]
  },
  {
   "cell_type": "markdown",
   "metadata": {
    "id": "iAmm9wPYc_1o",
    "tags": []
   },
   "source": [
    "#### Classification tasks reduces output variability"
   ]
  },
  {
   "cell_type": "markdown",
   "metadata": {
    "id": "VvRpK_0GdCpf"
   },
   "source": [
    "The prompt below results in a choice and may be useful if you want the output to be easier to control."
   ]
  },
  {
   "cell_type": "code",
   "execution_count": 17,
   "metadata": {
    "id": "kYDKh0r2dAqo",
    "tags": []
   },
   "outputs": [
    {
     "data": {
      "text/markdown": [
       "Okay, as a high school student, here's my recommendation and reasoning:\n",
       "\n",
       "**I strongly recommend learning either Python or JavaScript, and I'd lean slightly towards Python to start.**\n",
       "\n",
       "Here's a breakdown of why:\n",
       "\n",
       "*   **Python:**\n",
       "\n",
       "    *   **Beginner-Friendly Syntax:** Python is designed to be readable and easy to learn. Its syntax resembles plain English, making it less intimidating for beginners.\n",
       "    *   **Versatile Applications:** Python is used in a huge range of fields, including:\n",
       "        *   **Data Science & Analysis:**  Working with data is becoming increasingly important. Python libraries like Pandas, NumPy, and Matplotlib are industry standards for data manipulation, analysis, and visualization. This is a highly marketable skill.\n",
       "        *   **Web Development (Backend):** Frameworks like Django and Flask make building web applications relatively straightforward.\n",
       "        *   **Machine Learning & Artificial Intelligence:**  Python is the dominant language in this rapidly growing field.\n",
       "        *   **Scripting & Automation:**  Python is excellent for automating repetitive tasks (e.g., renaming a large batch of files, scraping data from websites).\n",
       "        *   **Game Development (Basic):**  Libraries like Pygame exist for basic game development.\n",
       "    *   **Large and Supportive Community:** Python has a massive and active online community.  You'll find tons of tutorials, documentation, and forums where you can ask questions and get help.\n",
       "    *   **Good for High School:**  Many high schools are now using Python in their computer science courses. You can find lots of learning resources aimed at your level.\n",
       "\n",
       "*   **JavaScript:**\n",
       "\n",
       "    *   **Front-End Web Development:** JavaScript is *essential* for front-end web development (what users see and interact with in their web browser).  You can't build dynamic websites without it.\n",
       "    *   **Full-Stack Web Development:**  With Node.js, JavaScript can also be used on the back-end (server-side) of web applications, making it possible to build complete web applications using only JavaScript.\n",
       "    *   **Interactive Websites:**  JavaScript is used to create interactive elements, animations, and engaging user experiences on websites.\n",
       "    *   **Mobile App Development:** Frameworks like React Native and Ionic allow you to build cross-platform mobile apps using JavaScript.\n",
       "    *   **Ubiquity:** JavaScript runs in every web browser, making it incredibly widespread.\n",
       "    *   **Slightly Steeper Learning Curve (Initially):**  While not *difficult*, JavaScript can be a little less intuitive for absolute beginners than Python, especially when dealing with asynchronous programming (a core concept in JavaScript). The \"JavaScript ecosystem\" (the tools and frameworks around JavaScript) can feel overwhelming at first.\n",
       "\n",
       "*   **Fortran:**\n",
       "\n",
       "    *   **Scientific Computing:** Fortran is a very old language that's still used in scientific and engineering applications, particularly those involving high-performance computing (e.g., weather forecasting, fluid dynamics).\n",
       "    *   **Legacy Code:** A lot of existing scientific software is written in Fortran.\n",
       "    *   **Niche:** Fortran is a *very* niche language.  While it's powerful for specific tasks, it's not as broadly applicable as Python or JavaScript.  Job opportunities are much more limited.\n",
       "    *   **Not Beginner-Friendly:** Fortran's syntax is older and less intuitive than modern languages.  It's not a good choice for your first programming language.\n",
       "\n",
       "**Why Python First (Slight Edge):**\n",
       "\n",
       "*   **Easier Entry Point:** Python's clear syntax and focus on readability make it a gentle introduction to programming concepts.  You can get started with basic programming tasks quickly and build confidence.\n",
       "*   **Broader Applicability Early On:** You can use Python for data analysis, simple games, or automating tasks on your computer almost immediately.  This provides practical, motivating applications of what you're learning.\n",
       "*   **Solid Foundation:** The core programming concepts you learn in Python (variables, loops, conditional statements, functions, etc.) will transfer directly to other languages, including JavaScript.\n",
       "\n",
       "**Why JavaScript Can Be a Good Choice Too:**\n",
       "\n",
       "*   **Immediate Visual Results:** If you're interested in web development, JavaScript lets you see the results of your code in a web browser almost instantly.  This can be very rewarding.\n",
       "*   **In-Demand Skill:** JavaScript is a highly sought-after skill in the job market, especially for web development roles.\n",
       "*   **Versatile:** Javascript has expanded beyond just web and has been used for desktop apps and even servers as mentioned above\n",
       "\n",
       "**In Summary:**\n",
       "\n",
       "Start with Python if you want a gentler introduction to programming and a broad range of applications.  Learn JavaScript if you're specifically interested in web development and want to see immediate visual results.\n",
       "\n",
       "**After you've learned the basics of *either* Python or JavaScript, it would be a great idea to pick up the other one!** Knowing both will significantly increase your versatility.  Definitely avoid Fortran unless you have a very specific interest in scientific computing.\n",
       "\n",
       "Good luck with your coding journey!\n"
      ],
      "text/plain": [
       "<IPython.core.display.Markdown object>"
      ]
     },
     "metadata": {},
     "output_type": "display_data"
    }
   ],
   "source": [
    "prompt = \"\"\"I'm a high school student. Which of these activities do you suggest and why:\n",
    "a) learn Python\n",
    "b) learn JavaScript\n",
    "c) learn Fortran\n",
    "\"\"\"\n",
    "\n",
    "response = client.models.generate_content(model=MODEL_ID, contents=prompt)\n",
    "display(Markdown(response.text))"
   ]
  },
  {
   "cell_type": "markdown",
   "metadata": {
    "id": "iTd60b1GdIsx"
   },
   "source": [
    "### Improve response quality by including examples"
   ]
  },
  {
   "cell_type": "markdown",
   "metadata": {
    "id": "yJi44NejdJYE"
   },
   "source": [
    "Another way to improve response quality is to add examples in your prompt. The LLM learns in-context from the examples on how to respond. Typically, one to five examples (shots) are enough to improve the quality of responses. Including too many examples can cause the model to over-fit the data and reduce the quality of responses.\n",
    "\n",
    "Similar to classical model training, the quality and distribution of the examples is very important. Pick examples that are representative of the scenarios that you need the model to learn, and keep the distribution of the examples (e.g. number of examples per class in the case of classification) aligned with your actual distribution."
   ]
  },
  {
   "cell_type": "markdown",
   "metadata": {
    "id": "sMbLginWdOKs"
   },
   "source": [
    "#### Zero-shot prompt"
   ]
  },
  {
   "cell_type": "markdown",
   "metadata": {
    "id": "Crh2Loi2dQ0v"
   },
   "source": [
    "Below is an example of zero-shot prompting, where you don't provide any examples to the LLM within the prompt itself."
   ]
  },
  {
   "cell_type": "code",
   "execution_count": 18,
   "metadata": {
    "id": "-7myRc-SdTQ4",
    "tags": []
   },
   "outputs": [
    {
     "data": {
      "text/markdown": [
       "Sentiment: Positive\n"
      ],
      "text/plain": [
       "<IPython.core.display.Markdown object>"
      ]
     },
     "metadata": {},
     "output_type": "display_data"
    }
   ],
   "source": [
    "prompt = \"\"\"Decide whether a Tweet's sentiment is positive, neutral, or negative.\n",
    "\n",
    "Tweet: I loved the new YouTube video you made!\n",
    "Sentiment:\n",
    "\"\"\"\n",
    "\n",
    "response = client.models.generate_content(model=MODEL_ID, contents=prompt)\n",
    "display(Markdown(response.text))"
   ]
  },
  {
   "cell_type": "markdown",
   "metadata": {
    "id": "ucRtPn9SdL64"
   },
   "source": [
    "#### One-shot prompt"
   ]
  },
  {
   "cell_type": "markdown",
   "metadata": {
    "id": "rs0gQH2vdYBi"
   },
   "source": [
    "Below is an example of one-shot prompting, where you provide one example to the LLM within the prompt to give some guidance on what type of response you want."
   ]
  },
  {
   "cell_type": "code",
   "execution_count": 19,
   "metadata": {
    "id": "iEq-KxGYdaT5",
    "tags": []
   },
   "outputs": [
    {
     "data": {
      "text/markdown": [
       "Sentiment: negative\n"
      ],
      "text/plain": [
       "<IPython.core.display.Markdown object>"
      ]
     },
     "metadata": {},
     "output_type": "display_data"
    }
   ],
   "source": [
    "prompt = \"\"\"Decide whether a Tweet's sentiment is positive, neutral, or negative.\n",
    "\n",
    "Tweet: I loved the new YouTube video you made!\n",
    "Sentiment: positive\n",
    "\n",
    "Tweet: That was awful. Super boring 😠\n",
    "Sentiment:\n",
    "\"\"\"\n",
    "\n",
    "response = client.models.generate_content(model=MODEL_ID, contents=prompt)\n",
    "display(Markdown(response.text))"
   ]
  },
  {
   "cell_type": "markdown",
   "metadata": {
    "id": "JnKLjJzmdfL_"
   },
   "source": [
    "#### Few-shot prompt"
   ]
  },
  {
   "cell_type": "markdown",
   "metadata": {
    "id": "6Zv-9F5OdgI_"
   },
   "source": [
    "Below is an example of few-shot prompting, where you provide a few examples to the LLM within the prompt to give some guidance on what type of response you want."
   ]
  },
  {
   "cell_type": "code",
   "execution_count": 20,
   "metadata": {
    "id": "u37P9tG4dk9S",
    "tags": []
   },
   "outputs": [
    {
     "data": {
      "text/markdown": [
       "Sentiment: positive\n"
      ],
      "text/plain": [
       "<IPython.core.display.Markdown object>"
      ]
     },
     "metadata": {},
     "output_type": "display_data"
    }
   ],
   "source": [
    "prompt = \"\"\"Decide whether a Tweet's sentiment is positive, neutral, or negative.\n",
    "\n",
    "Tweet: I loved the new YouTube video you made!\n",
    "Sentiment: positive\n",
    "\n",
    "Tweet: That was awful. Super boring 😠\n",
    "Sentiment: negative\n",
    "\n",
    "Tweet: Something surprised me about this video - it was actually original. It was not the same old recycled stuff that I always see. Watch it - you will not regret it.\n",
    "Sentiment:\n",
    "\"\"\"\n",
    "\n",
    "response = client.models.generate_content(model=MODEL_ID, contents=prompt)\n",
    "display(Markdown(response.text))"
   ]
  },
  {
   "cell_type": "markdown",
   "metadata": {
    "id": "wDMD3xb2dvX6"
   },
   "source": [
    "#### Choosing between zero-shot, one-shot, few-shot prompting methods"
   ]
  },
  {
   "cell_type": "markdown",
   "metadata": {
    "id": "s92W0YpNdxJp"
   },
   "source": [
    "Which prompt technique to use will solely depends on your goal. The zero-shot prompts are more open-ended and can give you creative answers, while one-shot and few-shot prompts teach the model how to behave so you can get more predictable answers that are consistent with the examples provided."
   ]
  }
 ],
 "metadata": {
  "colab": {
   "name": "intro_prompt_design.ipynb",
   "toc_visible": true
  },
  "environment": {
   "kernel": "conda-base-py",
   "name": "workbench-notebooks.m129",
   "type": "gcloud",
   "uri": "us-docker.pkg.dev/deeplearning-platform-release/gcr.io/workbench-notebooks:m129"
  },
  "kernelspec": {
   "display_name": "Python 3 (ipykernel) (Local) (Local)",
   "language": "python",
   "name": "conda-base-py"
  },
  "language_info": {
   "codemirror_mode": {
    "name": "ipython",
    "version": 3
   },
   "file_extension": ".py",
   "mimetype": "text/x-python",
   "name": "python",
   "nbconvert_exporter": "python",
   "pygments_lexer": "ipython3",
   "version": "3.10.16"
  }
 },
 "nbformat": 4,
 "nbformat_minor": 4
}
